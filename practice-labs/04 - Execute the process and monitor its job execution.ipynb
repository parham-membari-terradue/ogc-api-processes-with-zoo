{
 "cells": [
  {
   "cell_type": "markdown",
   "metadata": {},
   "source": [
    "# Execute the process and monitor the execution\n",
    "\n",
    "To submit an execution request of a deployed process and monitor it, the OGC API Processes API uses the resource highlighted in the table below:\n",
    "\n",
    "| **Resource**                   | **Path**                                     | **Purpose**                                                                     | **Part**   |\n",
    "|--------------------------------|----------------------------------------------|---------------------------------------------------------------------------------|------------|\n",
    "| Landing page                   | `/`                                          | Top-level resource serving as an entry point.                                   | Part 1     |\n",
    "| Conformance declaration        | `/conformance`                               | Information about the functionality supported by the server.                    | Part 1     |\n",
    "| API Definition                 | `/api`                                       | Metadata about the API itself.                                                  | Part 1     |\n",
    "| Process list                   | `/processes`                                 | Lists available processes with identifiers and links to descriptions.           | Part 1     |\n",
    "| Process description            | `/processes/{processID}`                     | Retrieves detailed information about a specific process.                        | Part 1     |\n",
    "| **Process execution**          | **`/processes/{processID}/execution`(POST)** | **Executes a process, creating a job.**                                         | **Part 1** |\n",
    "| Deploy Process                 | `/processes` (POST)                          | Deploys a new process on the server.                                            | Part 2     |\n",
    "| Replace Process                | `/processes/{processID}` (PUT)               | Replaces an existing process with a new version.                                | Part 2     |\n",
    "| Undeploy Process               | `/processes/{processID}` (DELETE)            | Removes an existing process from the server.                                    | Part 2     |\n",
    "| EO Application Package         | `/processes/{processID}/package`             | Get the EOAP associated with a deployed process.                                | Part 2     |\n",
    "| **Job status info**            | **`/jobs/{jobID}`**                          | **Retrieves the current status of a job.**                                      | **Part 1** |\n",
    "| **Job results**                | **`/jobs/{jobID}/results`**                  | **Retrieves the results of a job.**                                             | **Part 1** |\n",
    "| Job list                       | `/jobs`                                      | Retrieves a list of submitted jobs.                                             | Part 1     |\n",
    "| Job deletion                   | `/jobs/{jobID}` (DELETE)                     | Cancels and deletes a job.                                                      | Part 1     |"
   ]
  },
  {
   "cell_type": "code",
   "execution_count": 1,
   "metadata": {},
   "outputs": [],
   "source": [
    "import requests\n",
    "import time\n",
    "import json\n",
    "from pystac.item_collection import ItemCollection\n",
    "\n",
    "namespace = \"acme\"\n",
    "\n",
    "ogc_api_endpoint = f\"http://zoo-project-dru-service/{namespace}/ogc-api\""
   ]
  },
  {
   "cell_type": "markdown",
   "metadata": {},
   "source": [
    "Define the input data for the execution:"
   ]
  },
  {
   "cell_type": "code",
   "execution_count": 2,
   "metadata": {},
   "outputs": [],
   "source": [
    "data = {\n",
    "    \"inputs\": {\n",
    "        \"stac_items\": [\n",
    "            \"https://earth-search.aws.element84.com/v0/collections/sentinel-s2-l2a-cogs/items/S2B_10TFK_20210713_0_L2A\",\n",
    "            \"https://earth-search.aws.element84.com/v0/collections/sentinel-s2-l2a-cogs/items/S2A_10TFK_20220524_0_L2A\"\n",
    "        ],\n",
    "        \"aoi\": \"-121.399,39.834,-120.74,40.472\",\n",
    "        \"epsg\": \"EPSG:4326\",\n",
    "        \"bands\": [\n",
    "            \"green\",\n",
    "            \"nir\"\n",
    "        ]\n",
    "    }\n",
    "}\n"
   ]
  },
  {
   "cell_type": "markdown",
   "metadata": {},
   "source": [
    "Set request headers"
   ]
  },
  {
   "cell_type": "code",
   "execution_count": 3,
   "metadata": {},
   "outputs": [],
   "source": [
    "headers = {\n",
    "    \"accept\": \"*/*\",\n",
    "    \"Prefer\": \"respond-async;return=representation\",\n",
    "    \"Content-Type\": \"application/json\"\n",
    "}"
   ]
  },
  {
   "cell_type": "markdown",
   "metadata": {},
   "source": [
    "Submit a water-bodies detection job to the OGC API endpoint and retrieve the job ID for monitoring"
   ]
  },
  {
   "cell_type": "code",
   "execution_count": 4,
   "metadata": {},
   "outputs": [
    {
     "name": "stdout",
     "output_type": "stream",
     "text": [
      "Job submitted successfully. Job ID: 44946f30-8fbb-11ef-9bfe-8e55bd0a3308\n",
      "Monitor job status at: http://zoo-project-dru-service/acme/ogc-api/jobs/44946f30-8fbb-11ef-9bfe-8e55bd0a3308\n"
     ]
    }
   ],
   "source": [
    "\n",
    "process_id = \"water-bodies\"  # Replace with your process ID if different\n",
    "\n",
    "\n",
    "# Submit the processing request\n",
    "response = requests.post(f\"{ogc_api_endpoint}/processes/{process_id}/execution\", headers=headers, json=data)\n",
    "\n",
    "# Check if the request was successful\n",
    "if response.status_code == 201:\n",
    "    # Parse the response to get the job ID\n",
    "    job_info = response.json()\n",
    "    job_id = job_info.get(\"jobID\")\n",
    "    print(f\"Job submitted successfully. Job ID: {job_id}\")\n",
    "    print(f\"Monitor job status at: {ogc_api_endpoint}/jobs/{job_id}\")\n",
    "else:\n",
    "    print(f\"Failed to submit job. Status code: {response.status_code}\")\n",
    "    print(\"Response:\", response.text)\n",
    "    raise ValueError(f\"Failed to submit job. Status code: {response.status_code}\")\n"
   ]
  },
  {
   "cell_type": "markdown",
   "metadata": {},
   "source": [
    "Monitor the Job Status"
   ]
  },
  {
   "cell_type": "code",
   "execution_count": 5,
   "metadata": {},
   "outputs": [
    {
     "name": "stdout",
     "output_type": "stream",
     "text": [
      "\n",
      "Monitoring job status...\n",
      "Job status: running\n",
      "Job status: running\n",
      "Job status: running\n",
      "Job status: running\n",
      "Job status: running\n",
      "Job status: running\n",
      "Job status: running\n",
      "Job status: running\n",
      "Job status: running\n",
      "Job status: running\n",
      "Job status: running\n",
      "Job status: running\n",
      "Job status: running\n",
      "Job status: running\n",
      "Job status: running\n",
      "Job status: running\n",
      "Job status: running\n",
      "Job status: running\n",
      "Job status: successful\n",
      "\n",
      "Job completed successfully. Retrieving results...\n",
      "STAC Catalog URI: {'type': 'FeatureCollection', 'features': [{'type': 'Feature', 'stac_version': '1.0.0', 'id': 'S2B_10TFK_20210713_0_L2A', 'properties': {'proj:epsg': 32610, 'proj:geometry': {'type': 'Polygon', 'coordinates': [[[636990.0, 4410550.0], [691590.0, 4410550.0], [691590.0, 4482600.0], [636990.0, 4482600.0], [636990.0, 4410550.0]]]}, 'proj:bbox': [636990.0, 4410550.0, 691590.0, 4482600.0], 'proj:shape': [7205, 5460], 'proj:transform': [10.0, 0.0, 636990.0, 0.0, -10.0, 4482600.0, 0.0, 0.0, 1.0], 'proj:projjson': {'$schema': 'https://proj.org/schemas/v0.7/projjson.schema.json', 'type': 'ProjectedCRS', 'name': 'WGS 84 / UTM zone 10N', 'base_crs': {'name': 'WGS 84', 'datum': {'type': 'GeodeticReferenceFrame', 'name': 'World Geodetic System 1984', 'ellipsoid': {'name': 'WGS 84', 'semi_major_axis': 6378137, 'inverse_flattening': 298.257223563}}, 'coordinate_system': {'subtype': 'ellipsoidal', 'axis': [{'name': 'Geodetic latitude', 'abbreviation': 'Lat', 'direction': 'north', 'unit': 'degree'}, {'name': 'Geodetic longitude', 'abbreviation': 'Lon', 'direction': 'east', 'unit': 'degree'}]}, 'id': {'authority': 'EPSG', 'code': 4326}}, 'conversion': {'name': 'UTM zone 10N', 'method': {'name': 'Transverse Mercator', 'id': {'authority': 'EPSG', 'code': 9807}}, 'parameters': [{'name': 'Latitude of natural origin', 'value': 0, 'unit': 'degree', 'id': {'authority': 'EPSG', 'code': 8801}}, {'name': 'Longitude of natural origin', 'value': -123, 'unit': 'degree', 'id': {'authority': 'EPSG', 'code': 8802}}, {'name': 'Scale factor at natural origin', 'value': 0.9996, 'unit': 'unity', 'id': {'authority': 'EPSG', 'code': 8805}}, {'name': 'False easting', 'value': 500000, 'unit': 'metre', 'id': {'authority': 'EPSG', 'code': 8806}}, {'name': 'False northing', 'value': 0, 'unit': 'metre', 'id': {'authority': 'EPSG', 'code': 8807}}]}, 'coordinate_system': {'subtype': 'Cartesian', 'axis': [{'name': 'Easting', 'abbreviation': '', 'direction': 'east', 'unit': 'metre'}, {'name': 'Northing', 'abbreviation': '', 'direction': 'north', 'unit': 'metre'}]}, 'id': {'authority': 'EPSG', 'code': 32610}}, 'proj:wkt2': 'PROJCS[\"WGS 84 / UTM zone 10N\",GEOGCS[\"WGS 84\",DATUM[\"WGS_1984\",SPHEROID[\"WGS 84\",6378137,298.257223563,AUTHORITY[\"EPSG\",\"7030\"]],AUTHORITY[\"EPSG\",\"6326\"]],PRIMEM[\"Greenwich\",0,AUTHORITY[\"EPSG\",\"8901\"]],UNIT[\"degree\",0.0174532925199433,AUTHORITY[\"EPSG\",\"9122\"]],AUTHORITY[\"EPSG\",\"4326\"]],PROJECTION[\"Transverse_Mercator\"],PARAMETER[\"latitude_of_origin\",0],PARAMETER[\"central_meridian\",-123],PARAMETER[\"scale_factor\",0.9996],PARAMETER[\"false_easting\",500000],PARAMETER[\"false_northing\",0],UNIT[\"metre\",1,AUTHORITY[\"EPSG\",\"9001\"]],AXIS[\"Easting\",EAST],AXIS[\"Northing\",NORTH],AUTHORITY[\"EPSG\",\"32610\"]]', 'datetime': '2021-07-13T19:03:24Z'}, 'geometry': {'type': 'Polygon', 'coordinates': [[[-121.39905410179915, 39.833916743259095], [-120.76135965075635, 39.82336095080461], [-120.73995321724426, 40.471999341669175], [-121.38373773482932, 40.482798837728375], [-121.39905410179915, 39.833916743259095]]]}, 'links': [{'rel': 'collection', 'href': 's3://results/44946f30-8fbb-11ef-9bfe-8e55bd0a3308/44946f30-8fbb-11ef-9bfe-8e55bd0a3308/collection.json', 'type': 'application/json', 'title': 'Processing results'}, {'rel': 'root', 'href': 's3://results/44946f30-8fbb-11ef-9bfe-8e55bd0a3308/catalog.json', 'type': 'application/json'}, {'rel': 'self', 'href': 's3://results/44946f30-8fbb-11ef-9bfe-8e55bd0a3308/44946f30-8fbb-11ef-9bfe-8e55bd0a3308/S2B_10TFK_20210713_0_L2A/S2B_10TFK_20210713_0_L2A.json', 'type': 'application/json'}, {'rel': 'parent', 'href': 's3://results/44946f30-8fbb-11ef-9bfe-8e55bd0a3308/44946f30-8fbb-11ef-9bfe-8e55bd0a3308/collection.json', 'type': 'application/json', 'title': 'Processing results'}], 'assets': {'data': {'href': 's3://results/44946f30-8fbb-11ef-9bfe-8e55bd0a3308/44946f30-8fbb-11ef-9bfe-8e55bd0a3308/S2B_10TFK_20210713_0_L2A/otsu.tif', 'type': 'image/tiff; application=geotiff', 'storage:platform': 'eoap', 'storage:requester_pays': False, 'storage:tier': 'Standard', 'storage:region': 'us-east-1', 'storage:endpoint': 'http://eoap-zoo-project-localstack.eoap-zoo-project.svc.cluster.local:4566', 'roles': ['data', 'visual']}}, 'bbox': [-121.39905410179915, 39.82336095080461, -120.73995321724426, 40.482798837728375], 'stac_extensions': ['https://stac-extensions.github.io/projection/v1.1.0/schema.json'], 'collection': '44946f30-8fbb-11ef-9bfe-8e55bd0a3308'}, {'type': 'Feature', 'stac_version': '1.0.0', 'id': 'S2A_10TFK_20220524_0_L2A', 'properties': {'proj:epsg': 32610, 'proj:geometry': {'type': 'Polygon', 'coordinates': [[[636990.0, 4410550.0], [691590.0, 4410550.0], [691590.0, 4482600.0], [636990.0, 4482600.0], [636990.0, 4410550.0]]]}, 'proj:bbox': [636990.0, 4410550.0, 691590.0, 4482600.0], 'proj:shape': [7205, 5460], 'proj:transform': [10.0, 0.0, 636990.0, 0.0, -10.0, 4482600.0, 0.0, 0.0, 1.0], 'proj:projjson': {'$schema': 'https://proj.org/schemas/v0.7/projjson.schema.json', 'type': 'ProjectedCRS', 'name': 'WGS 84 / UTM zone 10N', 'base_crs': {'name': 'WGS 84', 'datum': {'type': 'GeodeticReferenceFrame', 'name': 'World Geodetic System 1984', 'ellipsoid': {'name': 'WGS 84', 'semi_major_axis': 6378137, 'inverse_flattening': 298.257223563}}, 'coordinate_system': {'subtype': 'ellipsoidal', 'axis': [{'name': 'Geodetic latitude', 'abbreviation': 'Lat', 'direction': 'north', 'unit': 'degree'}, {'name': 'Geodetic longitude', 'abbreviation': 'Lon', 'direction': 'east', 'unit': 'degree'}]}, 'id': {'authority': 'EPSG', 'code': 4326}}, 'conversion': {'name': 'UTM zone 10N', 'method': {'name': 'Transverse Mercator', 'id': {'authority': 'EPSG', 'code': 9807}}, 'parameters': [{'name': 'Latitude of natural origin', 'value': 0, 'unit': 'degree', 'id': {'authority': 'EPSG', 'code': 8801}}, {'name': 'Longitude of natural origin', 'value': -123, 'unit': 'degree', 'id': {'authority': 'EPSG', 'code': 8802}}, {'name': 'Scale factor at natural origin', 'value': 0.9996, 'unit': 'unity', 'id': {'authority': 'EPSG', 'code': 8805}}, {'name': 'False easting', 'value': 500000, 'unit': 'metre', 'id': {'authority': 'EPSG', 'code': 8806}}, {'name': 'False northing', 'value': 0, 'unit': 'metre', 'id': {'authority': 'EPSG', 'code': 8807}}]}, 'coordinate_system': {'subtype': 'Cartesian', 'axis': [{'name': 'Easting', 'abbreviation': '', 'direction': 'east', 'unit': 'metre'}, {'name': 'Northing', 'abbreviation': '', 'direction': 'north', 'unit': 'metre'}]}, 'id': {'authority': 'EPSG', 'code': 32610}}, 'proj:wkt2': 'PROJCS[\"WGS 84 / UTM zone 10N\",GEOGCS[\"WGS 84\",DATUM[\"WGS_1984\",SPHEROID[\"WGS 84\",6378137,298.257223563,AUTHORITY[\"EPSG\",\"7030\"]],AUTHORITY[\"EPSG\",\"6326\"]],PRIMEM[\"Greenwich\",0,AUTHORITY[\"EPSG\",\"8901\"]],UNIT[\"degree\",0.0174532925199433,AUTHORITY[\"EPSG\",\"9122\"]],AUTHORITY[\"EPSG\",\"4326\"]],PROJECTION[\"Transverse_Mercator\"],PARAMETER[\"latitude_of_origin\",0],PARAMETER[\"central_meridian\",-123],PARAMETER[\"scale_factor\",0.9996],PARAMETER[\"false_easting\",500000],PARAMETER[\"false_northing\",0],UNIT[\"metre\",1,AUTHORITY[\"EPSG\",\"9001\"]],AXIS[\"Easting\",EAST],AXIS[\"Northing\",NORTH],AUTHORITY[\"EPSG\",\"32610\"]]', 'datetime': '2022-05-24T19:03:29Z'}, 'geometry': {'type': 'Polygon', 'coordinates': [[[-121.39905410179915, 39.833916743259095], [-120.76135965075635, 39.82336095080461], [-120.73995321724426, 40.471999341669175], [-121.38373773482932, 40.482798837728375], [-121.39905410179915, 39.833916743259095]]]}, 'links': [{'rel': 'collection', 'href': 's3://results/44946f30-8fbb-11ef-9bfe-8e55bd0a3308/44946f30-8fbb-11ef-9bfe-8e55bd0a3308/collection.json', 'type': 'application/json', 'title': 'Processing results'}, {'rel': 'root', 'href': 's3://results/44946f30-8fbb-11ef-9bfe-8e55bd0a3308/catalog.json', 'type': 'application/json'}, {'rel': 'self', 'href': 's3://results/44946f30-8fbb-11ef-9bfe-8e55bd0a3308/44946f30-8fbb-11ef-9bfe-8e55bd0a3308/S2A_10TFK_20220524_0_L2A/S2A_10TFK_20220524_0_L2A.json', 'type': 'application/json'}, {'rel': 'parent', 'href': 's3://results/44946f30-8fbb-11ef-9bfe-8e55bd0a3308/44946f30-8fbb-11ef-9bfe-8e55bd0a3308/collection.json', 'type': 'application/json', 'title': 'Processing results'}], 'assets': {'data': {'href': 's3://results/44946f30-8fbb-11ef-9bfe-8e55bd0a3308/44946f30-8fbb-11ef-9bfe-8e55bd0a3308/S2A_10TFK_20220524_0_L2A/otsu.tif', 'type': 'image/tiff; application=geotiff', 'storage:platform': 'eoap', 'storage:requester_pays': False, 'storage:tier': 'Standard', 'storage:region': 'us-east-1', 'storage:endpoint': 'http://eoap-zoo-project-localstack.eoap-zoo-project.svc.cluster.local:4566', 'roles': ['data', 'visual']}}, 'bbox': [-121.39905410179915, 39.82336095080461, -120.73995321724426, 40.482798837728375], 'stac_extensions': ['https://stac-extensions.github.io/projection/v1.1.0/schema.json'], 'collection': '44946f30-8fbb-11ef-9bfe-8e55bd0a3308'}], 'id': '44946f30-8fbb-11ef-9bfe-8e55bd0a3308'}\n"
     ]
    }
   ],
   "source": [
    "print(\"\\nMonitoring job status...\")\n",
    "\n",
    "job_url = f\"{ogc_api_endpoint}/jobs/{job_id}\"\n",
    "\n",
    "headers = {\"accept\": \"application/json\"}\n",
    "\n",
    "while True:\n",
    "    status_response = requests.get(job_url, headers=headers)\n",
    "    if status_response.status_code == 200:\n",
    "        job_status = status_response.json().get(\"status\")\n",
    "        print(f\"Job status: {job_status}\")\n",
    "        \n",
    "        # Check if the job is completed (either successful or failed)\n",
    "        if job_status in [\"successful\", \"failed\"]:\n",
    "            break\n",
    "    else:\n",
    "        print(f\"Failed to get job status. Status code: {status_response.status_code}\")\n",
    "        break\n",
    "    \n",
    "    # Wait for a few seconds before checking again\n",
    "    time.sleep(10)\n",
    "\n",
    "# Step 4: Retrieve the Job Results if Successful\n",
    "if job_status == \"successful\":\n",
    "    print(\"\\nJob completed successfully. Retrieving results...\")\n",
    "    results_url = f\"{ogc_api_endpoint}/jobs/{job_id}/results\"\n",
    "    results_response = requests.get(results_url, headers=headers)\n",
    "    \n",
    "    if results_response.status_code == 200:\n",
    "        results = results_response.json()\n",
    "        stac_catalog_uri = results.get(\"stac_catalog\", {}).get(\"value\")\n",
    "        print(\"STAC Catalog URI:\", stac_catalog_uri)\n",
    "    else:\n",
    "        print(f\"Failed to retrieve job results. Status code: {results_response.status_code}\")\n",
    "else:\n",
    "    print(\"\\nJob did not complete successfully.\")"
   ]
  },
  {
   "cell_type": "markdown",
   "metadata": {},
   "source": [
    "Creating ItemCollection "
   ]
  },
  {
   "cell_type": "code",
   "execution_count": 6,
   "metadata": {},
   "outputs": [],
   "source": [
    "feature_collection = ItemCollection.from_dict(stac_catalog_uri).items"
   ]
  },
  {
   "cell_type": "markdown",
   "metadata": {},
   "source": [
    "## Exploit the results"
   ]
  },
  {
   "cell_type": "code",
   "execution_count": 7,
   "metadata": {},
   "outputs": [
    {
     "name": "stdout",
     "output_type": "stream",
     "text": [
      "{'data': <Asset href=s3://results/44946f30-8fbb-11ef-9bfe-8e55bd0a3308/44946f30-8fbb-11ef-9bfe-8e55bd0a3308/S2B_10TFK_20210713_0_L2A/otsu.tif>}\n",
      "{\n",
      "    \"href\": \"s3://results/44946f30-8fbb-11ef-9bfe-8e55bd0a3308/44946f30-8fbb-11ef-9bfe-8e55bd0a3308/S2B_10TFK_20210713_0_L2A/otsu.tif\",\n",
      "    \"roles\": [\n",
      "        \"data\",\n",
      "        \"visual\"\n",
      "    ],\n",
      "    \"storage:endpoint\": \"http://eoap-zoo-project-localstack.eoap-zoo-project.svc.cluster.local:4566\",\n",
      "    \"storage:platform\": \"eoap\",\n",
      "    \"storage:region\": \"us-east-1\",\n",
      "    \"storage:requester_pays\": false,\n",
      "    \"storage:tier\": \"Standard\",\n",
      "    \"type\": \"image/tiff; application=geotiff\"\n",
      "}\n",
      "{'data': <Asset href=s3://results/44946f30-8fbb-11ef-9bfe-8e55bd0a3308/44946f30-8fbb-11ef-9bfe-8e55bd0a3308/S2A_10TFK_20220524_0_L2A/otsu.tif>}\n",
      "{\n",
      "    \"href\": \"s3://results/44946f30-8fbb-11ef-9bfe-8e55bd0a3308/44946f30-8fbb-11ef-9bfe-8e55bd0a3308/S2A_10TFK_20220524_0_L2A/otsu.tif\",\n",
      "    \"roles\": [\n",
      "        \"data\",\n",
      "        \"visual\"\n",
      "    ],\n",
      "    \"storage:endpoint\": \"http://eoap-zoo-project-localstack.eoap-zoo-project.svc.cluster.local:4566\",\n",
      "    \"storage:platform\": \"eoap\",\n",
      "    \"storage:region\": \"us-east-1\",\n",
      "    \"storage:requester_pays\": false,\n",
      "    \"storage:tier\": \"Standard\",\n",
      "    \"type\": \"image/tiff; application=geotiff\"\n",
      "}\n"
     ]
    }
   ],
   "source": [
    "for item in feature_collection:\n",
    "\n",
    "    print(item.get_assets())\n",
    "    print(json.dumps(item.get_assets()[\"data\"].to_dict(), sort_keys=True, indent=4))"
   ]
  },
  {
   "cell_type": "markdown",
   "metadata": {},
   "source": [
    "Inspecting the job result using cli"
   ]
  },
  {
   "cell_type": "code",
   "execution_count": null,
   "metadata": {},
   "outputs": [],
   "source": [
    "!aws s3 ls s3://results/{job_id}/{job_id}"
   ]
  }
 ],
 "metadata": {
  "kernelspec": {
   "display_name": "Python (ZOO-Project)",
   "language": "python",
   "name": "zoo_env"
  },
  "language_info": {
   "codemirror_mode": {
    "name": "ipython",
    "version": 3
   },
   "file_extension": ".py",
   "mimetype": "text/x-python",
   "name": "python",
   "nbconvert_exporter": "python",
   "pygments_lexer": "ipython3",
   "version": "3.9.19"
  }
 },
 "nbformat": 4,
 "nbformat_minor": 2
}
