{
 "cells": [
  {
   "cell_type": "markdown",
   "metadata": {},
   "source": [
    "# List the deployed processes\n",
    "\n",
    "To list the deployed processes, OGC API Processes API uses the resource highlighted in the table below:\n",
    "\n",
    "| **Resource**                   | **Path**                                  | **Purpose**                                                                     | **Part**   |\n",
    "|--------------------------------|-------------------------------------------|---------------------------------------------------------------------------------|------------|\n",
    "| Landing page                   | `/`                                       | Top-level resource serving as an entry point.                                   | Part 1     |\n",
    "| Conformance declaration        | `/conformance`                            | Information about the functionality supported by the server.                    | Part 1     |\n",
    "| API Definition                 | `/api`                                    | Metadata about the API itself.                                                  | Part 1     |\n",
    "| **Process list**               | **`/processes`**                          | **Lists available processes with identifiers and links to descriptions.**       | **Part 1** |\n",
    "| Process description            | `/processes/{processID}`                  | Retrieves detailed information about a specific process.                        | Part 1     |\n",
    "| Process execution              | `/processes/{processID}/execution` (POST) | Executes a process, creating a job.                                             | Part 1     |\n",
    "| Deploy Process                 | `/processes` (POST)                       | Deploys a new process on the server.                                            | Part 2     |\n",
    "| Replace Process                | `/processes/{processID}` (PUT)            | Replaces an existing process with a new version.                                | Part 2     |\n",
    "| Undeploy Process               | `/processes/{processID}` (DELETE)         | Removes an existing process from the server.                                    | Part 2     |\n",
    "| EO Application Package         | `/processes/{processID}/package`          | Get the EOAP associated with a deployed process.                                | Part 2     |\n",
    "| Job status info                | `/jobs/{jobID}`                           | Retrieves the current status of a job.                                          | Part 1     |\n",
    "| Job results                    | `/jobs/{jobID}/results`                   | Retrieves the results of a job.                                                 | Part 1     |\n",
    "| Job list                       | `/jobs`                                   | Retrieves a list of submitted jobs.                                             | Part 1     |\n",
    "| Job deletion                   | `/jobs/{jobID}` (DELETE)                  | Cancels and deletes a job.                                                      | Part 1     |"
   ]
  },
  {
   "cell_type": "code",
   "execution_count": 1,
   "metadata": {},
   "outputs": [],
   "source": [
    "import requests\n",
    "import json\n",
    "\n",
    "namespace = \"acme\"\n",
    "\n",
    "ogc_api_endpoint = f\"http://zoo-project-dru-service/{namespace}/ogc-api\"\n",
    "\n",
    "response = requests.get(f\"{ogc_api_endpoint}/processes\")\n",
    "\n"
   ]
  },
  {
   "cell_type": "markdown",
   "metadata": {},
   "source": [
    "In the cell below, the user will explore the number of deployed processes available on the OGC API endpoint, along with their associated metadata."
   ]
  },
  {
   "cell_type": "code",
   "execution_count": 2,
   "metadata": {},
   "outputs": [
    {
     "name": "stdout",
     "output_type": "stream",
     "text": [
      "Number of available processes: 2\n",
      "\n",
      "Process ID: echo - skipped (ZOO Project uses this process for conformance testing)\n",
      "\n",
      "Process ID: water-bodies\n",
      "Title: Water bodies detection based on NDWI and otsu threshold\n",
      "Description: Water bodies detection based on NDWI and otsu threshold applied to Sentinel-2 COG STAC items\n",
      "Version: 1.0.0\n",
      "Mutable: True\n",
      "Job Control Options: ['async-execute', 'dismiss']\n",
      "Output Transmission: ['value', 'reference']\n",
      "Link: Process Description - http://localhost:8080/acme/ogc-api/processes/water-bodies\n"
     ]
    }
   ],
   "source": [
    "# Check if the request was successful\n",
    "if response.status_code == 200:\n",
    "    # Parse the JSON response\n",
    "    processes = response.json()\n",
    "    \n",
    "    # Display the number of processes available\n",
    "    print(f\"Number of available processes: {processes.get('numberTotal', 0)}\")\n",
    "    \n",
    "    # Iterate through each process and print its details\n",
    "    for process in processes.get(\"processes\", []):\n",
    "        if process.get(\"id\") in [\"echo\"]:\n",
    "            print(f\"\\nProcess ID: {process.get('id')} - skipped (ZOO Project uses this process for conformance testing)\")\n",
    "            continue\n",
    "        print(f\"\\nProcess ID: {process.get('id')}\")\n",
    "        print(f\"Title: {process.get('title')}\")\n",
    "        print(f\"Description: {process.get('description')}\")\n",
    "        print(f\"Version: {process.get('version')}\")\n",
    "        print(f\"Mutable: {process.get('mutable')}\")\n",
    "        print(f\"Job Control Options: {process.get('jobControlOptions')}\")\n",
    "        print(f\"Output Transmission: {process.get('outputTransmission')}\")\n",
    "        \n",
    "        # Print available links for the process\n",
    "        for link in process.get(\"links\", []):\n",
    "            print(f\"Link: {link.get('title')} - {link.get('href')}\")\n",
    "else:\n",
    "    print(f\"Failed to list processes. Status code: {response.status_code}\")"
   ]
  },
  {
   "cell_type": "markdown",
   "metadata": {},
   "source": [
    "## Explanation\n",
    "\n",
    "**Fetching Available Processes:**\n",
    "\n",
    "The `/processes` endpoint is used to list all processes.\n",
    "\n",
    "The response is parsed to extract information about each process.\n",
    "\n",
    "**Displaying Process Details:**\n",
    "\n",
    "For each process, the script displays the id, title, description, version, whether the process is mutable, the jobControlOptions, and outputTransmission options.\n",
    "\n",
    "Links related to the process (e.g., process description or execution endpoint) are also displayed.\n",
    "\n",
    "**Understanding the Output**\n",
    "\n",
    "Process ID: Unique identifier for the process.\n",
    "Title and Description: Provide information about the process functionality.\n",
    "Version: Indicates the process version.\n",
    "Mutable: If True, the process can be modified or redeployed.\n",
    "Job Control Options: Specifies how the process can be executed (e.g., synchronously, asynchronously, or dismissed).\n",
    "Output Transmission: Indicates the methods available for retrieving process results.\n",
    "Links: URLs to access more information about the process, such as its description or execution endpoint.\n",
    "\n",
    "**Next Steps**\n",
    "\n",
    "Once you have listed the processes, you can proceed with:\n",
    "\n",
    "- Viewing process details using the links provided in the output.\n",
    "- Deploying new processes if needed.\n",
    "- Executing available processes to perform geospatial tasks.\n",
    "\n",
    "This tutorial provides a basic way to list processes and gather information, forming the foundation for more complex interactions with the ZOO-Project's OGC API."
   ]
  }
 ],
 "metadata": {
  "kernelspec": {
   "display_name": "Python (ZOO-Project)",
   "language": "python",
   "name": "zoo_env"
  },
  "language_info": {
   "codemirror_mode": {
    "name": "ipython",
    "version": 3
   },
   "file_extension": ".py",
   "mimetype": "text/x-python",
   "name": "python",
   "nbconvert_exporter": "python",
   "pygments_lexer": "ipython3",
   "version": "3.9.19"
  }
 },
 "nbformat": 4,
 "nbformat_minor": 2
}
