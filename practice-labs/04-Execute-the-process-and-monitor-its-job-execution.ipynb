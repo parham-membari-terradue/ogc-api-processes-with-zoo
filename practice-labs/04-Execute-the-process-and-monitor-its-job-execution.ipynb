{
 "cells": [
  {
   "cell_type": "markdown",
   "metadata": {},
   "source": [
    "# Execute the process and monitor the execution\n",
    "\n",
    "To submit an execution request of a deployed process and monitor it, the OGC API Processes API uses the resource highlighted in the table below:\n",
    "\n",
    "| **Resource**                   | **Path**                                     | **Purpose**                                                                     | **Part**   |\n",
    "|--------------------------------|----------------------------------------------|---------------------------------------------------------------------------------|------------|\n",
    "| Landing page                   | `/`                                          | Top-level resource serving as an entry point.                                   | Part 1     |\n",
    "| Conformance declaration        | `/conformance`                               | Information about the functionality supported by the server.                    | Part 1     |\n",
    "| API Definition                 | `/api`                                       | Metadata about the API itself.                                                  | Part 1     |\n",
    "| Process list                   | `/processes`                                 | Lists available processes with identifiers and links to descriptions.           | Part 1     |\n",
    "| Process description            | `/processes/{processID}`                     | Retrieves detailed information about a specific process.                        | Part 1     |\n",
    "| **Process execution**          | **`/processes/{processID}/execution`(POST)** | **Executes a process, creating a job.**                                         | **Part 1** |\n",
    "| Deploy Process                 | `/processes` (POST)                          | Deploys a new process on the server.                                            | Part 2     |\n",
    "| Replace Process                | `/processes/{processID}` (PUT)               | Replaces an existing process with a new version.                                | Part 2     |\n",
    "| Undeploy Process               | `/processes/{processID}` (DELETE)            | Removes an existing process from the server.                                    | Part 2     |\n",
    "| EO Application Package         | `/processes/{processID}/package`             | Get the EOAP associated with a deployed process.                                | Part 2     |\n",
    "| **Job status info**            | **`/jobs/{jobID}`**                          | **Retrieves the current status of a job.**                                      | **Part 1** |\n",
    "| **Job results**                | **`/jobs/{jobID}/results`**                  | **Retrieves the results of a job.**                                             | **Part 1** |\n",
    "| Job list                       | `/jobs`                                      | Retrieves a list of submitted jobs.                                             | Part 1     |\n",
    "| Job deletion                   | `/jobs/{jobID}` (DELETE)                     | Cancels and deletes a job.                                                      | Part 1     |"
   ]
  },
  {
   "cell_type": "markdown",
   "metadata": {},
   "source": [
    "## Install OGC API Client"
   ]
  },
  {
   "cell_type": "code",
   "execution_count": null,
   "metadata": {},
   "outputs": [],
   "source": [
    "!pip install \"ogc-api-client @ git+https://github.com/EOEPCA/ogc-api-client@develop#subdirectory=src\""
   ]
  },
  {
   "cell_type": "markdown",
   "metadata": {},
   "source": [
    "## Import dependencies"
   ]
  },
  {
   "cell_type": "code",
   "execution_count": null,
   "metadata": {},
   "outputs": [],
   "source": [
    "import os\n",
    "from pprint import pprint\n",
    "import requests\n",
    "import time\n",
    "import json\n",
    "from pystac.item_collection import ItemCollection\n",
    "from urllib.parse import urljoin, urlparse\n",
    "from ogc_api_client.api_client import Configuration\n",
    "from ogc_api_client.api_client_wrapper import ApiClientWrapper\n",
    "from ogc_api_client.models.status_info import StatusInfo, StatusCode\n",
    "from typing import Dict, Optional\n",
    "from fs_s3fs import S3FS\n",
    "from loguru import logger\n",
    "import rasterio\n",
    "\n",
    "\n",
    "namespace = \"acme\"\n",
    "\n",
    "ogc_api_endpoint = f\"http://zoo-project-dru-service/{namespace}/ogc-api\""
   ]
  },
  {
   "cell_type": "markdown",
   "metadata": {},
   "source": [
    "Define the input data for the execution:"
   ]
  },
  {
   "cell_type": "code",
   "execution_count": 2,
   "metadata": {},
   "outputs": [],
   "source": [
    "data = {\n",
    "    \"inputs\": {\n",
    "        \"stac_items\": [\n",
    "            \"https://planetarycomputer.microsoft.com/api/stac/v1/collections/landsat-c2-l2/items/LC08_L2SP_044032_20231208_02_T1\",\n",
    "            \"https://planetarycomputer.microsoft.com/api/stac/v1/collections/landsat-c2-l2/items/LC08_L2SP_043033_20231201_02_T1\"\n",
    "        ],\n",
    "        \"aoi\": \"-121.399,39.834,-120.74,40.472\",\n",
    "        \"epsg\": \"EPSG:4326\",\n",
    "        \"bands\": [\n",
    "            \"green\",\n",
    "            \"nir08\"\n",
    "        ]\n",
    "    }\n",
    "}\n"
   ]
  },
  {
   "cell_type": "markdown",
   "metadata": {},
   "source": [
    "In the cell below, the user will configure the API client settings and initialize a client object using [ApiClientWrapper](https://github.com/EOEPCA/ogc-api-client/blob/d7159a3f70e5f283ccb7d585702ec40d5a49c006/src/ogc_api_client/api_client_wrapper.py#L29C7-L29C23). A request header will also be specified.\n"
   ]
  },
  {
   "cell_type": "code",
   "execution_count": null,
   "metadata": {},
   "outputs": [],
   "source": [
    "configuration = Configuration(\n",
    "    host=ogc_api_endpoint,\n",
    ")\n",
    "client = ApiClientWrapper(configuration=configuration)\n",
    "\n",
    "headers = {\n",
    "    \"accept\": \"*/*\",\n",
    "    \"Prefer\": \"respond-async;return=representation\",\n",
    "    \"Content-Type\": \"application/json\"\n",
    "}"
   ]
  },
  {
   "cell_type": "markdown",
   "metadata": {},
   "source": [
    "Submit a water-bodies detection job to the OGC API endpoint and retrieve the job ID for monitoring"
   ]
  },
  {
   "cell_type": "code",
   "execution_count": null,
   "metadata": {},
   "outputs": [
    {
     "name": "stdout",
     "output_type": "stream",
     "text": [
      "Job submitted successfully. Job ID: 68046976-7dcb-11f0-90ac-2a20aea25780\n",
      "Monitor job status at: http://zoo-project-dru-service/acme/ogc-api/jobs/68046976-7dcb-11f0-90ac-2a20aea25780\n"
     ]
    }
   ],
   "source": [
    "process_id = \"water-bodies\"  # Replace with your process ID if different\n",
    "\n",
    "# Submit the processing request\n",
    "content = client.execute_simple(process_id=process_id, execute=data, _headers=headers)\n",
    "pprint(content)\n",
    "if isinstance(content, StatusInfo):\n",
    "    # Parse the response to get the job ID\n",
    "    job_id = content.job_id\n",
    "    print(f\"Job submitted successfully. Job ID: {job_id}\")\n",
    "    status_location = next((link.href for link in content.links if link.rel == 'monitor'), None)\n",
    "    if not status_location:\n",
    "        status_location = f\"{ogc_api_endpoint}/jobs/{job_id}\"\n",
    "                           \n",
    "    print(f\"Monitor job status at: {status_location}\")\n",
    "else:\n",
    "    print(f\"Failed to submit job. Status code: {content.status}\")\n",
    "    print(\"Response:\", content.text)\n",
    "    raise ValueError(f\"Failed to submit job. Status code: {content.status}\")"
   ]
  },
  {
   "cell_type": "markdown",
   "metadata": {},
   "source": [
    "Monitor the Job Status"
   ]
  },
  {
   "cell_type": "code",
   "execution_count": null,
   "metadata": {},
   "outputs": [
    {
     "name": "stdout",
     "output_type": "stream",
     "text": [
      "\n",
      "Monitoring job status...\n",
      "Job status: running\n",
      "Job status: running\n",
      "Job status: running\n",
      "Job status: running\n",
      "Job status: running\n",
      "Job status: running\n",
      "Job status: running\n",
      "Job status: running\n",
      "Job status: running\n",
      "Job status: successful\n",
      "\n",
      "Job completed successfully. Retrieving results...\n",
      "STAC Catalog URI: {'type': 'FeatureCollection', 'features': [{'type': 'Feature', 'stac_version': '1.0.0', 'id': 'LC08_L2SP_044032_20231208_02_T1', 'properties': {'proj:epsg': 32610, 'proj:geometry': {'type': 'Polygon', 'coordinates': [[[636975.0, 4410555.0], [691605.0, 4410555.0], [691605.0, 4482615.0], [636975.0, 4482615.0], [636975.0, 4410555.0]]]}, 'proj:bbox': [636975.0, 4410555.0, 691605.0, 4482615.0], 'proj:shape': [2402, 1821], 'proj:transform': [30.0, 0.0, 636975.0, 0.0, -30.0, 4482615.0, 0.0, 0.0, 1.0], 'datetime': '2023-12-08T18:45:23.598169Z'}, 'geometry': {'type': 'Polygon', 'coordinates': [[[-121.39922829056682, 39.83396419450036], [-120.76118304700903, 39.82340258564599], [-120.73977187420928, 40.47213091315636], [-121.38391140352763, 40.482936393990066], [-121.39922829056682, 39.83396419450036]]]}, 'links': [{'rel': 'collection', 'href': 's3://results/68046976-7dcb-11f0-90ac-2a20aea25780/68046976-7dcb-11f0-90ac-2a20aea25780/collection.json', 'type': 'application/json', 'title': 'Processing results'}, {'rel': 'root', 'href': 's3://results/68046976-7dcb-11f0-90ac-2a20aea25780/catalog.json', 'type': 'application/json'}, {'rel': 'self', 'href': 's3://results/68046976-7dcb-11f0-90ac-2a20aea25780/68046976-7dcb-11f0-90ac-2a20aea25780/LC08_L2SP_044032_20231208_02_T1/LC08_L2SP_044032_20231208_02_T1.json', 'type': 'application/json'}, {'rel': 'parent', 'href': 's3://results/68046976-7dcb-11f0-90ac-2a20aea25780/68046976-7dcb-11f0-90ac-2a20aea25780/collection.json', 'type': 'application/json', 'title': 'Processing results'}], 'assets': {'data': {'href': 's3://results/68046976-7dcb-11f0-90ac-2a20aea25780/68046976-7dcb-11f0-90ac-2a20aea25780/LC08_L2SP_044032_20231208_02_T1/otsu.tif', 'type': 'image/tiff; application=geotiff', 'raster:bands': [{'data_type': 'uint8', 'scale': 1.0, 'offset': 0.0, 'sampling': 'area', 'nodata': 0.0, 'statistics': {'mean': 1.0, 'minimum': 1, 'maximum': 1, 'stddev': 0.0, 'valid_percent': 60.46467784749034}, 'histogram': {'count': 11, 'min': 0.5, 'max': 1.5, 'buckets': [0, 0, 0, 0, 0, 481086, 0, 0, 0, 0]}}], 'storage:platform': 'eoap', 'storage:requester_pays': False, 'storage:tier': 'Standard', 'storage:region': 'us-east-1', 'storage:endpoint': 'http://eoap-zoo-project-localstack.eoap-zoo-project.svc.cluster.local:4566', 'roles': ['data', 'visual']}}, 'bbox': [-121.39922829056682, 39.82340258564599, -120.73977187420928, 40.482936393990066], 'stac_extensions': ['https://stac-extensions.github.io/projection/v1.1.0/schema.json', 'https://stac-extensions.github.io/raster/v1.1.0/schema.json'], 'collection': '68046976-7dcb-11f0-90ac-2a20aea25780'}, {'type': 'Feature', 'stac_version': '1.0.0', 'id': 'LC08_L2SP_043033_20231201_02_T1', 'properties': {'proj:epsg': 32610, 'proj:geometry': {'type': 'Polygon', 'coordinates': [[[636975.0, 4410555.0], [691605.0, 4410555.0], [691605.0, 4425015.0], [636975.0, 4425015.0], [636975.0, 4410555.0]]]}, 'proj:bbox': [636975.0, 4410555.0, 691605.0, 4425015.0], 'proj:shape': [482, 1821], 'proj:transform': [30.0, 0.0, 636975.0, 0.0, -30.0, 4425015.0, 0.0, 0.0, 1.0], 'datetime': '2023-12-01T18:39:41.392050Z'}, 'geometry': {'type': 'Polygon', 'coordinates': [[[-121.39922829056682, 39.83396419450036], [-120.76118304700903, 39.82340258564599], [-120.75694206934209, 39.95358698004168], [-121.3961944444915, 39.96419715990018], [-121.39922829056682, 39.83396419450036]]]}, 'links': [{'rel': 'collection', 'href': 's3://results/68046976-7dcb-11f0-90ac-2a20aea25780/68046976-7dcb-11f0-90ac-2a20aea25780/collection.json', 'type': 'application/json', 'title': 'Processing results'}, {'rel': 'root', 'href': 's3://results/68046976-7dcb-11f0-90ac-2a20aea25780/catalog.json', 'type': 'application/json'}, {'rel': 'self', 'href': 's3://results/68046976-7dcb-11f0-90ac-2a20aea25780/68046976-7dcb-11f0-90ac-2a20aea25780/LC08_L2SP_043033_20231201_02_T1/LC08_L2SP_043033_20231201_02_T1.json', 'type': 'application/json'}, {'rel': 'parent', 'href': 's3://results/68046976-7dcb-11f0-90ac-2a20aea25780/68046976-7dcb-11f0-90ac-2a20aea25780/collection.json', 'type': 'application/json', 'title': 'Processing results'}], 'assets': {'data': {'href': 's3://results/68046976-7dcb-11f0-90ac-2a20aea25780/68046976-7dcb-11f0-90ac-2a20aea25780/LC08_L2SP_043033_20231201_02_T1/otsu.tif', 'type': 'image/tiff; application=geotiff', 'raster:bands': [{'data_type': 'uint8', 'scale': 1.0, 'offset': 0.0, 'sampling': 'area', 'nodata': 0.0, 'statistics': {'mean': 1.0, 'minimum': 1, 'maximum': 1, 'stddev': 0.0, 'valid_percent': 12.31976677389706}, 'histogram': {'count': 11, 'min': 0.5, 'max': 1.5, 'buckets': [0, 0, 0, 0, 0, 34314, 0, 0, 0, 0]}}], 'storage:platform': 'eoap', 'storage:requester_pays': False, 'storage:tier': 'Standard', 'storage:region': 'us-east-1', 'storage:endpoint': 'http://eoap-zoo-project-localstack.eoap-zoo-project.svc.cluster.local:4566', 'roles': ['data', 'visual']}}, 'bbox': [-121.39922829056682, 39.82340258564599, -120.75694206934209, 39.96419715990018], 'stac_extensions': ['https://stac-extensions.github.io/projection/v1.1.0/schema.json', 'https://stac-extensions.github.io/raster/v1.1.0/schema.json'], 'collection': '68046976-7dcb-11f0-90ac-2a20aea25780'}], 'id': '68046976-7dcb-11f0-90ac-2a20aea25780'}\n"
     ]
    }
   ],
   "source": [
    "print(f\"\\nMonitoring job status (job ID: {job_id})...\")\n",
    "\n",
    "while True:\n",
    "    status = client.get_status(job_id=job_id)\n",
    "\n",
    "    if status:\n",
    "        print(f\"Job status: {status.status}\")\n",
    "        \n",
    "        # Check if the job is completed (either successful or failed)\n",
    "        if status.status in [StatusCode.SUCCESSFUL, StatusCode.FAILED]:\n",
    "            break\n",
    "    else:\n",
    "        print(f\"Failed to get job status.\")\n",
    "        break\n",
    "    \n",
    "    # Wait for a few seconds before checking again\n",
    "    time.sleep(10)\n",
    "\n",
    "if status and status.status == StatusCode.SUCCESSFUL:\n",
    "    # print(status)\n",
    "    print(\"\\nJob completed successfully. Retrieving results...\")\n",
    "    result = client.get_result(job_id=job_id)\n",
    "    print(result)\n",
    "    stac_feature_collection = result.get(\"stac_catalog\").actual_instance.value.oneof_schema_2_validator\n",
    "    print(\"STAC item collection:\", stac_feature_collection)\n",
    "else:\n",
    "    print(\"\\nJob did not complete successfully.\")"
   ]
  },
  {
   "cell_type": "markdown",
   "metadata": {},
   "source": [
    "Creating ItemCollection "
   ]
  },
  {
   "cell_type": "code",
   "execution_count": null,
   "metadata": {},
   "outputs": [],
   "source": [
    "stac_items = ItemCollection.from_dict(stac_feature_collection).items"
   ]
  },
  {
   "cell_type": "markdown",
   "metadata": {},
   "source": [
    "## Exploit the results"
   ]
  },
  {
   "cell_type": "code",
   "execution_count": null,
   "metadata": {},
   "outputs": [
    {
     "name": "stdout",
     "output_type": "stream",
     "text": [
      "s3://results/68046976-7dcb-11f0-90ac-2a20aea25780/68046976-7dcb-11f0-90ac-2a20aea25780/LC08_L2SP_044032_20231208_02_T1/otsu.tif\n",
      "{\n",
      "    \"href\": \"s3://results/68046976-7dcb-11f0-90ac-2a20aea25780/68046976-7dcb-11f0-90ac-2a20aea25780/LC08_L2SP_044032_20231208_02_T1/otsu.tif\",\n",
      "    \"raster:bands\": [\n",
      "        {\n",
      "            \"data_type\": \"uint8\",\n",
      "            \"histogram\": {\n",
      "                \"buckets\": [\n",
      "                    0,\n",
      "                    0,\n",
      "                    0,\n",
      "                    0,\n",
      "                    0,\n",
      "                    481086,\n",
      "                    0,\n",
      "                    0,\n",
      "                    0,\n",
      "                    0\n",
      "                ],\n",
      "                \"count\": 11,\n",
      "                \"max\": 1.5,\n",
      "                \"min\": 0.5\n",
      "            },\n",
      "            \"nodata\": 0.0,\n",
      "            \"offset\": 0.0,\n",
      "            \"sampling\": \"area\",\n",
      "            \"scale\": 1.0,\n",
      "            \"statistics\": {\n",
      "                \"maximum\": 1,\n",
      "                \"mean\": 1.0,\n",
      "                \"minimum\": 1,\n",
      "                \"stddev\": 0.0,\n",
      "                \"valid_percent\": 60.46467784749034\n",
      "            }\n",
      "        }\n",
      "    ],\n",
      "    \"roles\": [\n",
      "        \"data\",\n",
      "        \"visual\"\n",
      "    ],\n",
      "    \"storage:endpoint\": \"http://eoap-zoo-project-localstack.eoap-zoo-project.svc.cluster.local:4566\",\n",
      "    \"storage:platform\": \"eoap\",\n",
      "    \"storage:region\": \"us-east-1\",\n",
      "    \"storage:requester_pays\": false,\n",
      "    \"storage:tier\": \"Standard\",\n",
      "    \"type\": \"image/tiff; application=geotiff\"\n",
      "}\n",
      "s3://results/68046976-7dcb-11f0-90ac-2a20aea25780/68046976-7dcb-11f0-90ac-2a20aea25780/LC08_L2SP_043033_20231201_02_T1/otsu.tif\n",
      "{\n",
      "    \"href\": \"s3://results/68046976-7dcb-11f0-90ac-2a20aea25780/68046976-7dcb-11f0-90ac-2a20aea25780/LC08_L2SP_043033_20231201_02_T1/otsu.tif\",\n",
      "    \"raster:bands\": [\n",
      "        {\n",
      "            \"data_type\": \"uint8\",\n",
      "            \"histogram\": {\n",
      "                \"buckets\": [\n",
      "                    0,\n",
      "                    0,\n",
      "                    0,\n",
      "                    0,\n",
      "                    0,\n",
      "                    34314,\n",
      "                    0,\n",
      "                    0,\n",
      "                    0,\n",
      "                    0\n",
      "                ],\n",
      "                \"count\": 11,\n",
      "                \"max\": 1.5,\n",
      "                \"min\": 0.5\n",
      "            },\n",
      "            \"nodata\": 0.0,\n",
      "            \"offset\": 0.0,\n",
      "            \"sampling\": \"area\",\n",
      "            \"scale\": 1.0,\n",
      "            \"statistics\": {\n",
      "                \"maximum\": 1,\n",
      "                \"mean\": 1.0,\n",
      "                \"minimum\": 1,\n",
      "                \"stddev\": 0.0,\n",
      "                \"valid_percent\": 12.31976677389706\n",
      "            }\n",
      "        }\n",
      "    ],\n",
      "    \"roles\": [\n",
      "        \"data\",\n",
      "        \"visual\"\n",
      "    ],\n",
      "    \"storage:endpoint\": \"http://eoap-zoo-project-localstack.eoap-zoo-project.svc.cluster.local:4566\",\n",
      "    \"storage:platform\": \"eoap\",\n",
      "    \"storage:region\": \"us-east-1\",\n",
      "    \"storage:requester_pays\": false,\n",
      "    \"storage:tier\": \"Standard\",\n",
      "    \"type\": \"image/tiff; application=geotiff\"\n",
      "}\n"
     ]
    }
   ],
   "source": [
    "\n",
    "for item in stac_items:\n",
    "\n",
    "    print(item.get_assets()[\"data\"].href)\n",
    "    print(json.dumps(item.get_assets()[\"data\"].to_dict(), sort_keys=True, indent=4))"
   ]
  },
  {
   "cell_type": "markdown",
   "metadata": {},
   "source": [
    "In the cell below, the user opens a GeoTIFF file produced by the `water-bodies` job using `rasterio`"
   ]
  },
  {
   "cell_type": "code",
   "execution_count": 51,
   "metadata": {},
   "outputs": [
    {
     "name": "stdout",
     "output_type": "stream",
     "text": [
      "68046976-7dcb-11f0-90ac-2a20aea25780/68046976-7dcb-11f0-90ac-2a20aea25780/LC08_L2SP_044032_20231208_02_T1/otsu.tif\n",
      "{'driver': 'GTiff', 'dtype': 'uint8', 'nodata': 0.0, 'width': 1821, 'height': 2402, 'count': 1, 'crs': CRS.from_wkt('PROJCS[\"WGS 84 / UTM zone 10N\",GEOGCS[\"WGS 84\",DATUM[\"WGS_1984\",SPHEROID[\"WGS 84\",6378137,298.257223563,AUTHORITY[\"EPSG\",\"7030\"]],AUTHORITY[\"EPSG\",\"6326\"]],PRIMEM[\"Greenwich\",0,AUTHORITY[\"EPSG\",\"8901\"]],UNIT[\"degree\",0.0174532925199433,AUTHORITY[\"EPSG\",\"9122\"]],AUTHORITY[\"EPSG\",\"4326\"]],PROJECTION[\"Transverse_Mercator\"],PARAMETER[\"latitude_of_origin\",0],PARAMETER[\"central_meridian\",-123],PARAMETER[\"scale_factor\",0.9996],PARAMETER[\"false_easting\",500000],PARAMETER[\"false_northing\",0],UNIT[\"metre\",1,AUTHORITY[\"EPSG\",\"9001\"]],AXIS[\"Easting\",EAST],AXIS[\"Northing\",NORTH],AUTHORITY[\"EPSG\",\"32610\"]]'), 'transform': Affine(30.0, 0.0, 636975.0,\n",
      "       0.0, -30.0, 4482615.0), 'blockxsize': 512, 'blockysize': 512, 'tiled': True, 'compress': 'lzw', 'interleave': 'band'}\n"
     ]
    }
   ],
   "source": [
    "region_name = os.environ.get(\"AWS_DEFAULT_REGION\")\n",
    "endpoint_url = os.environ.get(\"AWS_ENDPOINT_URL\", \"http://eoap-zoo-project-localstack:4566\")\n",
    "aws_access_key_id = os.environ.get(\"AWS_ACCESS_KEY_ID\")\n",
    "aws_secret_access_key = os.environ.get(\"AWS_SECRET_ACCESS_KEY\")\n",
    "region_name, endpoint_url, aws_access_key_id, aws_secret_access_key\n",
    "\n",
    "# Extract image name using os.path.basename\n",
    "full_path = item.get_assets()[\"data\"].href\n",
    "parsed_url = urlparse(full_path)\n",
    "\n",
    "# Extract the bucket name from the \"netloc\" part\n",
    "bucket_name = parsed_url.netloc\n",
    "\n",
    "# Extract the full path (excluding 's3://bucket_name')\n",
    "full_path = parsed_url.path.lstrip(\"/\")\n",
    "\n",
    "# Extract image name using os.path.basename\n",
    "image_name = os.path.basename(full_path)\n",
    "# Extract directory path using os.path.dirname\n",
    "dir_path = os.path.dirname(full_path)\n",
    "fs_opener = S3FS(\n",
    "        bucket_name=\"results\",\n",
    "        dir_path=dir_path,\n",
    "        aws_access_key_id=aws_access_key_id,\n",
    "        aws_secret_access_key=aws_secret_access_key,\n",
    "        endpoint_url=endpoint_url,\n",
    "        region=region_name,\n",
    "    )\n",
    "\n",
    "if fs_opener.region:\n",
    "    pass\n",
    "else:\n",
    "    logger.error(\n",
    "        \"File system opener is not configurated properly to open file from s3 bucket\"\n",
    "    )\n",
    "\n",
    "with rasterio.open(image_name, opener=fs_opener.open) as src:\n",
    "    profile = src.profile\n",
    "    print(profile)"
   ]
  },
  {
   "cell_type": "markdown",
   "metadata": {},
   "source": [
    "Inspecting the job result using cli"
   ]
  },
  {
   "cell_type": "code",
   "execution_count": 64,
   "metadata": {},
   "outputs": [
    {
     "name": "stdout",
     "output_type": "stream",
     "text": [
      "2025-08-20 13:42:57       3447 LC08_L2SP_044032_20231208_02_T1.json\n",
      "2025-08-20 13:42:57     406547 otsu.tif\n"
     ]
    }
   ],
   "source": [
    "!aws s3 ls s3://results/{job_id}/{job_id}/{os.path.basename(data[\"inputs\"][\"stac_items\"][0])}/"
   ]
  }
 ],
 "metadata": {
  "kernelspec": {
   "display_name": "base",
   "language": "python",
   "name": "python3"
  },
  "language_info": {
   "codemirror_mode": {
    "name": "ipython",
    "version": 3
   },
   "file_extension": ".py",
   "mimetype": "text/x-python",
   "name": "python",
   "nbconvert_exporter": "python",
   "pygments_lexer": "ipython3",
   "version": "3.12.2"
  }
 },
 "nbformat": 4,
 "nbformat_minor": 2
}
