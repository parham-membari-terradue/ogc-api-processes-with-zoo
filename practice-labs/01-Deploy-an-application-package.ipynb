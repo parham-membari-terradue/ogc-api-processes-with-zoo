{
 "cells": [
  {
   "cell_type": "markdown",
   "metadata": {},
   "source": [
    "# Deploy the Application Package\n",
    "\n",
    "Deploying an Application Package using the OGC API Processes API uses the API resource highlighted in the table below:\n",
    "\n",
    "\n",
    "| **Resource**                   | **Path**                                  | **Purpose**                                                                     | **Part**   |\n",
    "|--------------------------------|-------------------------------------------|---------------------------------------------------------------------------------|------------|\n",
    "| Landing page                   | `/`                                       | Top-level resource serving as an entry point.                                   | Part 1     |\n",
    "| Conformance declaration        | `/conformance`                            | Information about the functionality supported by the server.                    | Part 1     |\n",
    "| API Definition                 | `/api`                                    | Metadata about the API itself.                                                  | Part 1     |\n",
    "| Process list                   | `/processes`                              | Lists available processes with identifiers and links to descriptions.           | Part 1     |\n",
    "| Process description            | `/processes/{processID}`                  | Retrieves detailed information about a specific process.                        | Part 1     |\n",
    "| Process execution              | `/processes/{processID}/execution` (POST) | Executes a process, creating a job.                                             | Part 1     |\n",
    "| **Deploy Process**             | **`/processes` (POST)**                   | **Deploys a new process on the server.**                                        | **Part 2** |\n",
    "| Replace Process                | `/processes/{processID}` (PUT)            | Replaces an existing process with a new version.                                | Part 2     |\n",
    "| Undeploy Process               | `/processes/{processID}` (DELETE)         | Removes an existing process from the server.                                    | Part 2     |\n",
    "| EO Application Package         | `/processes/{processID}/package`          | Get the EOAP associated with a deployed process.                                | Part 2     |\n",
    "| Job status info                | `/jobs/{jobID}`                           | Retrieves the current status of a job.                                          | Part 1     |\n",
    "| Job results                    | `/jobs/{jobID}/results`                   | Retrieves the results of a job.                                                 | Part 1     |\n",
    "| Job list                       | `/jobs`                                   | Retrieves a list of submitted jobs.                                             | Part 1     |\n",
    "| Job deletion                   | `/jobs/{jobID}` (DELETE)                  | Cancels and deletes a job.                                                      | Part 1     |\n",
    "\n",
    "\n",
    "This resource permits the deployment of the an Application Package and provide two options for the `Content-Type`."
   ]
  },
  {
   "cell_type": "markdown",
   "metadata": {},
   "source": [
    "## Hands-on - Deploy the water_bodies Application Package\n",
    "\n",
    "**Encoding Options**\n",
    "\n",
    "The deployment can use two encodings that are based on the same CWL conformance class. Both methods utilize the same water_bodies.cwl file, but the way the file is provided differs:\n",
    "- OGC Application Package Encoding (application/ogcapppkg+json): This method allows you to reference the CWL file by providing its location, rather than including the file's content in the request.\n",
    "- CWL Encoding (application/cwl+yaml): This method requires the CWL file content to be included directly in the request body.\n",
    "\n",
    "**Request Configuration**\n",
    "\n",
    "When selecting a content type, the request body text area updates to contain a relevant payload template for that encoding.\n",
    "Warning: If the payload is manually edited, switching to a different encoding may not refresh the text area. In this case, the Reset button can be used to restore the appropriate template.\n",
    "\n",
    "**Server Response**\n",
    "\n",
    "After executing the deployment request, the server responds with a process summary similar to the one obtained from the previous process listing endpoint.\n",
    "The server’s response includes a Location header containing the URL to access the detailed process description.\n",
    "\n",
    "**Next Steps** \n",
    "\n",
    "You can either:\n",
    "- Return to the list of available processes to verify the newly deployed process.\n",
    "- Proceed to the next step to review the process description in detail"
   ]
  },
  {
   "cell_type": "markdown",
   "metadata": {},
   "source": [
    "## Setup\n",
    "\n",
    "Lists available processes in the `acme` namespace.\n",
    "\n",
    "> **_NOTE:_**: if the `acme` namespace does not exist, ZOO Project will create it."
   ]
  },
  {
   "cell_type": "code",
   "execution_count": 1,
   "metadata": {},
   "outputs": [
    {
     "data": {
      "text/plain": [
       "200"
      ]
     },
     "execution_count": 1,
     "metadata": {},
     "output_type": "execute_result"
    }
   ],
   "source": [
    "import requests\n",
    "import json\n",
    "import yaml\n",
    "import time\n",
    "import os\n",
    "import sys\n",
    "from loguru import logger\n",
    "from pystac.item_collection import ItemCollection\n",
    "from pprint import pprint\n",
    "namespace = \"acme\"\n",
    "\n",
    "ogc_api_endpoint = f\"http://zoo-project-dru-service/{namespace}/ogc-api\"\n",
    "\n",
    "r = requests.get(f\"{ogc_api_endpoint}/processes\")\n",
    "\n",
    "r.status_code"
   ]
  },
  {
   "cell_type": "markdown",
   "metadata": {},
   "source": [
    "\n",
    "If the application package was deployed previously, delete it."
   ]
  },
  {
   "cell_type": "code",
   "execution_count": 2,
   "metadata": {},
   "outputs": [
    {
     "data": {
      "text/plain": [
       "404"
      ]
     },
     "execution_count": 2,
     "metadata": {},
     "output_type": "execute_result"
    }
   ],
   "source": [
    "def undeploy(process_id):\n",
    "\n",
    "    r = requests.delete(f\"{ogc_api_endpoint}/processes/{process_id}\")\n",
    "\n",
    "    return r\n",
    "\n",
    "app_package_entry_point = \"water-bodies\"\n",
    "\n",
    "r = undeploy(app_package_entry_point)\n",
    "\n",
    "r.status_code"
   ]
  },
  {
   "cell_type": "markdown",
   "metadata": {},
   "source": [
    "## OGC Application Package Encoding (application/ogcapppkg+json)\n",
    "\n",
    "OGC Application Package Encoding (application/ogcapppkg+json): This method allows you to reference the CWL file by providing its location, rather than including the file's content in the request."
   ]
  },
  {
   "cell_type": "code",
   "execution_count": null,
   "metadata": {},
   "outputs": [],
   "source": [
    "app_package_entry_point = \"water-bodies\"\n",
    "def app_package_deployment(app_package_entry_point, app_package_url):  \n",
    "  headers = {\"accept\": \"application/json\", \n",
    "          \"Content-Type\": \"application/ogcapppkg+json\"}\n",
    "  response = requests.post(\n",
    "      \n",
    "      f\"{ogc_api_endpoint}/processes/?w={app_package_entry_point}\",\n",
    "      headers=headers,\n",
    "      json = {\n",
    "        \"executionUnit\": {\n",
    "          \"href\": app_package_url,\n",
    "          \"type\": \"application/cwl\"\n",
    "        }\n",
    "      }\n",
    "  )\n",
    "  return response\n",
    "\n",
    "def check_app_package_deployment(app_package_entry_point):\n",
    "    r = requests.get(f\"{ogc_api_endpoint}/processes/\")\n",
    "   \n",
    "    if r.status_code == 200:\n",
    "        # Parse the JSON response\n",
    "        all_processes = r.json()\n",
    "        for process in all_processes.get(\"processes\", []):\n",
    "          if process.get(\"id\") in [app_package_entry_point]:\n",
    "              logger.info(f\"Application package {app_package_entry_point} is already deployed.\")\n",
    "              return True\n",
    "          else:\n",
    "              logger.warning(f\"{app_package_entry_point} still not deployed.\")\n",
    "              return False\n",
    "    else:\n",
    "        logger.error(f\"Failed to retrieve processes. Status code: {r.status_code}\")\n",
    "        sys.exit(1)\n",
    "\n",
    "def get_latest_application_package_version( repo_name):\n",
    "\n",
    "    url = f\"https://api.github.com/repos/eoap/{repo_name}/releases/latest\"\n",
    "    response = requests.get(url)\n",
    "    response.raise_for_status()  # raise error if request failed\n",
    "\n",
    "    latest_tag = response.json().get(\"tag_name\")\n",
    "    return latest_tag"
   ]
  },
  {
   "cell_type": "code",
   "execution_count": null,
   "metadata": {},
   "outputs": [
    {
     "name": "stderr",
     "output_type": "stream",
     "text": [
      "\u001b[32m2025-08-20 13:40:19.690\u001b[0m | \u001b[33m\u001b[1mWARNING \u001b[0m | \u001b[36m__main__\u001b[0m:\u001b[36mcheck_app_package_deployment\u001b[0m:\u001b[36m29\u001b[0m - \u001b[33m\u001b[1mwater-bodies still not deployed.\u001b[0m\n",
      "\u001b[32m2025-08-20 13:40:19.985\u001b[0m | \u001b[1mINFO    \u001b[0m | \u001b[36m__main__\u001b[0m:\u001b[36m<module>\u001b[0m:\u001b[36m6\u001b[0m - \u001b[1mLatest version is:  1.1.1\u001b[0m\n"
     ]
    },
    {
     "name": "stdout",
     "output_type": "stream",
     "text": [
      "{'description': 'Water bodies detection based on NDWI and otsu threshold '\n",
      "                'applied to Sentinel-2 COG STAC items',\n",
      " 'id': 'water-bodies',\n",
      " 'jobControlOptions': ['async-execute', 'dismiss'],\n",
      " 'links': [{'href': 'http://localhost:8080/acme/ogc-api/processes/water-bodies/execution',\n",
      "            'rel': 'http://www.opengis.net/def/rel/ogc/1.0/execute',\n",
      "            'title': 'Execute End Point',\n",
      "            'type': 'application/json'}],\n",
      " 'metadata': [{'role': 'https://schema.org/softwareVersion', 'value': '1.1.1'},\n",
      "              {'role': 'https://schema.org/author',\n",
      "               'value': {'@context': 'https://schema.org',\n",
      "                         '@type': 'Person',\n",
      "                         's.affiliation': 'ACME',\n",
      "                         's.email': 'jane.doe@acme.earth',\n",
      "                         's.name': 'Jane Doe'}}],\n",
      " 'mutable': True,\n",
      " 'outputTransmission': ['value', 'reference'],\n",
      " 'title': 'Water bodies detection based on NDWI and otsu threshold',\n",
      " 'version': '1.1.1'}\n"
     ]
    }
   ],
   "source": [
    "app_package_entry_point = \"water-bodies\"\n",
    "is_package_deployed = check_app_package_deployment(app_package_entry_point)\n",
    "repo_name = \"mastering-app-package\"\n",
    "latest_application_package_version = get_latest_application_package_version(repo_name)\n",
    "logger.info(f\"Latest version is:  {latest_application_package_version}\")\n",
    "app_package_url = f\"https://github.com/eoap/mastering-app-package/releases/download/{latest_application_package_version}/app-water-bodies-cloud-native.{latest_application_package_version}.cwl\"\n",
    "if not is_package_deployed:\n",
    "    \n",
    "    response= app_package_deployment(app_package_entry_point, app_package_url)\n",
    "    pprint(response.json())"
   ]
  },
  {
   "cell_type": "code",
   "execution_count": 5,
   "metadata": {},
   "outputs": [
    {
     "data": {
      "text/plain": [
       "{'Date': 'Wed, 20 Aug 2025 13:40:19 GMT',\n",
       " 'Server': 'Apache/2.4.41 (Ubuntu)',\n",
       " 'X-Powered-By': 'ZOO-Project-DRU',\n",
       " 'X-Also-Powered-By': 'jwt.securityIn',\n",
       " 'X-Also-Also-Powered-By': 'dru.securityIn',\n",
       " 'Location': 'http://localhost:8080/acme/ogc-api/processes/water-bodies',\n",
       " 'Keep-Alive': 'timeout=5, max=100',\n",
       " 'Connection': 'Keep-Alive',\n",
       " 'Transfer-Encoding': 'chunked',\n",
       " 'Content-Type': 'application/json;charset=UTF-8'}"
      ]
     },
     "execution_count": 5,
     "metadata": {},
     "output_type": "execute_result"
    }
   ],
   "source": [
    "dict(response.headers)"
   ]
  },
  {
   "cell_type": "markdown",
   "metadata": {},
   "source": [
    "## CWL Encoding (application/cwl+yaml)\n",
    "\n",
    "This method requires the CWL file content to be included directly in the request body."
   ]
  },
  {
   "cell_type": "markdown",
   "metadata": {},
   "source": [
    "If the application package was deployed previously, delete it."
   ]
  },
  {
   "cell_type": "code",
   "execution_count": 6,
   "metadata": {},
   "outputs": [
    {
     "data": {
      "text/plain": [
       "204"
      ]
     },
     "execution_count": 6,
     "metadata": {},
     "output_type": "execute_result"
    }
   ],
   "source": [
    "app_package_entry_point = \"water-bodies\"\n",
    "\n",
    "r = undeploy(app_package_entry_point)\n",
    "r.status_code"
   ]
  },
  {
   "cell_type": "markdown",
   "metadata": {},
   "source": [
    "Download the application package from https://github.com/eoap/mastering-app-package/releases/download/1.0.0/app-water-bodies-cloud-native.1.0.0.cwl"
   ]
  },
  {
   "cell_type": "code",
   "execution_count": 7,
   "metadata": {},
   "outputs": [
    {
     "data": {
      "text/plain": [
       "{'cwlVersion': 'v1.0',\n",
       " '$namespaces': {'s': 'https://schema.org/'},\n",
       " 's:softwareVersion': '1.1.1',\n",
       " 'schemas': ['http://schema.org/version/9.0/schemaorg-current-http.rdf'],\n",
       " '$graph': [{'class': 'Workflow',\n",
       "   'id': 'water-bodies',\n",
       "   'label': 'Water bodies detection based on NDWI and otsu threshold',\n",
       "   'doc': 'Water bodies detection based on NDWI and otsu threshold applied to Sentinel-2 COG STAC items',\n",
       "   'requirements': [{'class': 'ScatterFeatureRequirement'},\n",
       "    {'class': 'SubworkflowFeatureRequirement'}],\n",
       "   'inputs': {'aoi': {'label': 'area of interest',\n",
       "     'doc': 'area of interest as a bounding box',\n",
       "     'type': 'string'},\n",
       "    'epsg': {'label': 'EPSG code',\n",
       "     'doc': 'EPSG code',\n",
       "     'type': 'string',\n",
       "     'default': 'EPSG:4326'},\n",
       "    'stac_items': {'label': 'Sentinel-2 STAC items',\n",
       "     'doc': 'list of Sentinel-2 COG STAC items',\n",
       "     'type': 'string[]'},\n",
       "    'bands': {'label': 'bands used for the NDWI',\n",
       "     'doc': 'bands used for the NDWI',\n",
       "     'type': 'string[]',\n",
       "     'default': ['green', 'nir']}},\n",
       "   'outputs': [{'id': 'stac_catalog',\n",
       "     'outputSource': ['node_stac/stac_catalog'],\n",
       "     'type': 'Directory'}],\n",
       "   'steps': {'node_water_bodies': {'run': '#detect_water_body',\n",
       "     'in': {'item': 'stac_items',\n",
       "      'aoi': 'aoi',\n",
       "      'epsg': 'epsg',\n",
       "      'bands': 'bands'},\n",
       "     'out': ['detected_water_body'],\n",
       "     'scatter': 'item',\n",
       "     'scatterMethod': 'dotproduct'},\n",
       "    'node_stac': {'run': '#stac',\n",
       "     'in': {'item': 'stac_items',\n",
       "      'rasters': {'source': 'node_water_bodies/detected_water_body'}},\n",
       "     'out': ['stac_catalog']}}},\n",
       "  {'class': 'Workflow',\n",
       "   'id': 'detect_water_body',\n",
       "   'label': 'Water body detection based on NDWI and otsu threshold',\n",
       "   'doc': 'Water body detection based on NDWI and otsu threshold',\n",
       "   'requirements': [{'class': 'ScatterFeatureRequirement'}],\n",
       "   'inputs': {'aoi': {'doc': 'area of interest as a bounding box',\n",
       "     'type': 'string'},\n",
       "    'epsg': {'doc': 'EPSG code', 'type': 'string', 'default': 'EPSG:4326'},\n",
       "    'bands': {'doc': 'bands used for the NDWI', 'type': 'string[]'},\n",
       "    'item': {'doc': 'STAC item', 'type': 'string'}},\n",
       "   'outputs': [{'id': 'detected_water_body',\n",
       "     'outputSource': ['node_otsu/binary_mask_item'],\n",
       "     'type': 'File'}],\n",
       "   'steps': {'node_crop': {'run': '#crop',\n",
       "     'in': {'item': 'item', 'aoi': 'aoi', 'epsg': 'epsg', 'band': 'bands'},\n",
       "     'out': ['cropped'],\n",
       "     'scatter': 'band',\n",
       "     'scatterMethod': 'dotproduct'},\n",
       "    'node_normalized_difference': {'run': '#norm_diff',\n",
       "     'in': {'rasters': {'source': 'node_crop/cropped'}},\n",
       "     'out': ['ndwi']},\n",
       "    'node_otsu': {'run': '#otsu',\n",
       "     'in': {'raster': {'source': 'node_normalized_difference/ndwi'}},\n",
       "     'out': ['binary_mask_item']}}},\n",
       "  {'class': 'CommandLineTool',\n",
       "   'id': 'crop',\n",
       "   'requirements': {'InlineJavascriptRequirement': {},\n",
       "    'EnvVarRequirement': {'envDef': {'PATH': '/usr/local/sbin:/usr/local/bin:/usr/sbin:/usr/bin:/sbin:/bin',\n",
       "      'PYTHONPATH': '/app'}},\n",
       "    'ResourceRequirement': {'coresMax': 1, 'ramMax': 512}},\n",
       "   'hints': {'DockerRequirement': {'dockerPull': 'ghcr.io/parham-membari-terradue/mastering-app-package/crop@sha256:0fc019633a1968a611a07f335ddcc9a478f6971c72757a57e060423fae57473e'}},\n",
       "   'baseCommand': ['python', '-m', 'app'],\n",
       "   'arguments': [],\n",
       "   'inputs': {'item': {'type': 'string',\n",
       "     'inputBinding': {'prefix': '--input-item'}},\n",
       "    'aoi': {'type': 'string', 'inputBinding': {'prefix': '--aoi'}},\n",
       "    'epsg': {'type': 'string', 'inputBinding': {'prefix': '--epsg'}},\n",
       "    'band': {'type': 'string', 'inputBinding': {'prefix': '--band'}}},\n",
       "   'outputs': {'cropped': {'outputBinding': {'glob': '*.tif'},\n",
       "     'type': 'File'}}},\n",
       "  {'class': 'CommandLineTool',\n",
       "   'id': 'norm_diff',\n",
       "   'requirements': {'InlineJavascriptRequirement': {},\n",
       "    'EnvVarRequirement': {'envDef': {'PATH': '/usr/local/sbin:/usr/local/bin:/usr/sbin:/usr/bin:/sbin:/bin',\n",
       "      'PYTHONPATH': '/app'}},\n",
       "    'ResourceRequirement': {'coresMax': 1, 'ramMax': 512}},\n",
       "   'hints': {'DockerRequirement': {'dockerPull': 'ghcr.io/parham-membari-terradue/mastering-app-package/norm_diff@sha256:e46491095215833722db2c3d3c24feae381c1008981ae3508973b6aa1f5a880a'}},\n",
       "   'baseCommand': ['python', '-m', 'app'],\n",
       "   'arguments': [],\n",
       "   'inputs': {'rasters': {'type': 'File[]', 'inputBinding': {'position': 1}}},\n",
       "   'outputs': {'ndwi': {'outputBinding': {'glob': '*.tif'}, 'type': 'File'}}},\n",
       "  {'class': 'CommandLineTool',\n",
       "   'id': 'otsu',\n",
       "   'requirements': {'InlineJavascriptRequirement': {},\n",
       "    'EnvVarRequirement': {'envDef': {'PATH': '/usr/local/sbin:/usr/local/bin:/usr/sbin:/usr/bin:/sbin:/bin',\n",
       "      'PYTHONPATH': '/app'}},\n",
       "    'ResourceRequirement': {'coresMax': 1, 'ramMax': 512}},\n",
       "   'hints': {'DockerRequirement': {'dockerPull': 'ghcr.io/parham-membari-terradue/mastering-app-package/otsu@sha256:f026bcac96c9bf1ce486855ea6e8fd27ccc501e82dbc6837021c32d9708d097a'}},\n",
       "   'baseCommand': ['python', '-m', 'app'],\n",
       "   'arguments': [],\n",
       "   'inputs': {'raster': {'type': 'File', 'inputBinding': {'position': 1}}},\n",
       "   'outputs': {'binary_mask_item': {'outputBinding': {'glob': '*.tif'},\n",
       "     'type': 'File'}}},\n",
       "  {'class': 'CommandLineTool',\n",
       "   'id': 'stac',\n",
       "   'requirements': {'InlineJavascriptRequirement': {},\n",
       "    'EnvVarRequirement': {'envDef': {'PATH': '/usr/local/sbin:/usr/local/bin:/usr/sbin:/usr/bin:/sbin:/bin',\n",
       "      'PYTHONPATH': '/app'}},\n",
       "    'ResourceRequirement': {'coresMax': 1, 'ramMax': 512}},\n",
       "   'hints': {'DockerRequirement': {'dockerPull': 'ghcr.io/parham-membari-terradue/mastering-app-package/stac@sha256:c687a9f18ebb9352a150bb7ac2d687ec9e08e2f4ef2519da342012895dbb693e'}},\n",
       "   'baseCommand': ['python', '-m', 'app'],\n",
       "   'arguments': [],\n",
       "   'inputs': {'item': {'type': {'type': 'array',\n",
       "      'items': 'string',\n",
       "      'inputBinding': {'prefix': '--input-item'}}},\n",
       "    'rasters': {'type': {'type': 'array',\n",
       "      'items': 'File',\n",
       "      'inputBinding': {'prefix': '--water-body'}}}},\n",
       "   'outputs': {'stac_catalog': {'outputBinding': {'glob': '.'},\n",
       "     'type': 'Directory'}}}],\n",
       " 's:codeRepository': {'URL': 'https://github.com/parham-membari-terradue/mastering-app-package.git'},\n",
       " 's:author': [{'class': 's:Person',\n",
       "   's.name': 'Jane Doe',\n",
       "   's.email': 'jane.doe@acme.earth',\n",
       "   's.affiliation': 'ACME'}]}"
      ]
     },
     "execution_count": 7,
     "metadata": {},
     "output_type": "execute_result"
    }
   ],
   "source": [
    "r = requests.get(app_package_url)\n",
    "\n",
    "app_package_content  = yaml.safe_load(r.content)\n",
    "\n",
    "app_package_content"
   ]
  },
  {
   "cell_type": "code",
   "execution_count": 8,
   "metadata": {},
   "outputs": [],
   "source": [
    "def app_package_deployment_cwl_encoding(app_package_entry_point, app_package_content):  \n",
    "  \n",
    "    headers = {\"accept\": \"application/json\", \n",
    "            \"Content-Type\": \"application/cwl+yaml\"}\n",
    "\n",
    "    response = requests.post(\n",
    "        f\"{ogc_api_endpoint}/processes?w={app_package_entry_point}\",\n",
    "        headers=headers,\n",
    "        json=app_package_content\n",
    "    )\n",
    "    print(response.status_code)\n",
    "    return response"
   ]
  },
  {
   "cell_type": "code",
   "execution_count": 9,
   "metadata": {},
   "outputs": [
    {
     "name": "stderr",
     "output_type": "stream",
     "text": [
      "\u001b[32m2025-08-20 13:40:49.695\u001b[0m | \u001b[33m\u001b[1mWARNING \u001b[0m | \u001b[36m__main__\u001b[0m:\u001b[36mcheck_app_package_deployment\u001b[0m:\u001b[36m29\u001b[0m - \u001b[33m\u001b[1mwater-bodies still not deployed.\u001b[0m\n"
     ]
    },
    {
     "name": "stdout",
     "output_type": "stream",
     "text": [
      "201\n",
      "{'description': 'Water bodies detection based on NDWI and otsu threshold '\n",
      "                'applied to Sentinel-2 COG STAC items',\n",
      " 'id': 'water-bodies',\n",
      " 'jobControlOptions': ['async-execute', 'dismiss'],\n",
      " 'links': [{'href': 'http://localhost:8080/acme/ogc-api/processes/water-bodies/execution',\n",
      "            'rel': 'http://www.opengis.net/def/rel/ogc/1.0/execute',\n",
      "            'title': 'Execute End Point',\n",
      "            'type': 'application/json'}],\n",
      " 'metadata': [{'role': 'https://schema.org/softwareVersion', 'value': '1.1.1'},\n",
      "              {'role': 'https://schema.org/author',\n",
      "               'value': {'@context': 'https://schema.org',\n",
      "                         '@type': 'Person',\n",
      "                         's.affiliation': 'ACME',\n",
      "                         's.email': 'jane.doe@acme.earth',\n",
      "                         's.name': 'Jane Doe'}}],\n",
      " 'mutable': True,\n",
      " 'outputTransmission': ['value', 'reference'],\n",
      " 'title': 'Water bodies detection based on NDWI and otsu threshold',\n",
      " 'version': '1.1.1'}\n"
     ]
    }
   ],
   "source": [
    "app_package_entry_point = \"water-bodies\"\n",
    "is_package_deployed = check_app_package_deployment(app_package_entry_point)\n",
    "if not is_package_deployed:\n",
    "    response = app_package_deployment_cwl_encoding(app_package_entry_point, app_package_content)\n",
    "    pprint(response.json())"
   ]
  },
  {
   "cell_type": "code",
   "execution_count": 10,
   "metadata": {},
   "outputs": [
    {
     "data": {
      "text/plain": [
       "{'Date': 'Wed, 20 Aug 2025 13:40:49 GMT',\n",
       " 'Server': 'Apache/2.4.41 (Ubuntu)',\n",
       " 'X-Powered-By': 'ZOO-Project-DRU',\n",
       " 'X-Also-Powered-By': 'jwt.securityIn',\n",
       " 'X-Also-Also-Powered-By': 'dru.securityIn',\n",
       " 'Location': 'http://localhost:8080/acme/ogc-api/processes/water-bodies',\n",
       " 'Keep-Alive': 'timeout=5, max=100',\n",
       " 'Connection': 'Keep-Alive',\n",
       " 'Transfer-Encoding': 'chunked',\n",
       " 'Content-Type': 'application/json;charset=UTF-8'}"
      ]
     },
     "execution_count": 10,
     "metadata": {},
     "output_type": "execute_result"
    }
   ],
   "source": [
    "dict(response.headers)"
   ]
  },
  {
   "cell_type": "markdown",
   "metadata": {},
   "source": [
    "**Next Steps** \n",
    "\n",
    "You can either:\n",
    "- Return to the list of available processes to verify the newly deployed process.\n",
    "- Proceed to the next step to review the process description in detail"
   ]
  }
 ],
 "metadata": {
  "kernelspec": {
   "display_name": "base",
   "language": "python",
   "name": "python3"
  },
  "language_info": {
   "codemirror_mode": {
    "name": "ipython",
    "version": 3
   },
   "file_extension": ".py",
   "mimetype": "text/x-python",
   "name": "python",
   "nbconvert_exporter": "python",
   "pygments_lexer": "ipython3",
   "version": "3.9.19"
  }
 },
 "nbformat": 4,
 "nbformat_minor": 2
}
